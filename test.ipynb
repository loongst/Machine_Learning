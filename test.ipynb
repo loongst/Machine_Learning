{
  "nbformat": 4,
  "nbformat_minor": 0,
  "metadata": {
    "colab": {
      "name": "test.ipynb",
      "provenance": [],
      "collapsed_sections": [],
      "authorship_tag": "ABX9TyNW4dmW6P5BAod4jH3qfbO4",
      "include_colab_link": true
    },
    "kernelspec": {
      "display_name": "Python 3",
      "name": "python3"
    },
    "accelerator": "TPU"
  },
  "cells": [
    {
      "cell_type": "markdown",
      "metadata": {
        "id": "view-in-github",
        "colab_type": "text"
      },
      "source": [
        "<a href=\"https://colab.research.google.com/github/loongst/Machine_Learning/blob/main/test.ipynb\" target=\"_parent\"><img src=\"https://colab.research.google.com/assets/colab-badge.svg\" alt=\"Open In Colab\"/></a>"
      ]
    },
    {
      "cell_type": "code",
      "metadata": {
        "colab": {
          "base_uri": "https://localhost:8080/"
        },
        "id": "Oo-gj7_2VEEA",
        "outputId": "187db912-e3b7-4057-b0dc-6b2c9f933bb5"
      },
      "source": [
        "from google.colab import drive\n",
        "drive.mount(\"/content/drive\")"
      ],
      "execution_count": null,
      "outputs": [
        {
          "output_type": "stream",
          "text": [
            "Mounted at /content/drive\n"
          ],
          "name": "stdout"
        }
      ]
    },
    {
      "cell_type": "code",
      "metadata": {
        "colab": {
          "base_uri": "https://localhost:8080/",
          "height": 339
        },
        "id": "nWLrNNoZePEM",
        "outputId": "db3b6607-f152-4614-f1ae-0151803ef996"
      },
      "source": [
        "import seaborn as sns\n",
        "from sklearn.metrics import confusion_matrix\n",
        "import matplotlib.pyplot as plt\n",
        "sns.set()\n",
        "y_true = [\"cat\", \"dog\", \"cat\", \"cat\", \"dog\", \"rebit\"]\n",
        "y_pred = [\"dog\", \"dog\", \"rebit\", \"cat\", \"dog\", \"cat\"]\n",
        "C2= confusion_matrix(y_true, y_pred, labels=[\"dog\", \"rebit\", \"cat\"])\n",
        "print(C2)\n",
        "sns.heatmap(C2,annot=True)"
      ],
      "execution_count": null,
      "outputs": [
        {
          "output_type": "stream",
          "text": [
            "[[2 0 0]\n",
            " [0 0 1]\n",
            " [1 1 1]]\n"
          ],
          "name": "stdout"
        },
        {
          "output_type": "execute_result",
          "data": {
            "text/plain": [
              "<matplotlib.axes._subplots.AxesSubplot at 0x7f1606748710>"
            ]
          },
          "metadata": {
            "tags": []
          },
          "execution_count": 5
        },
        {
          "output_type": "display_data",
          "data": {
            "image/png": "[encoded data removed]",
            "text/plain": [
              "<Figure size 432x288 with 2 Axes>"
            ]
          },
          "metadata": {
            "tags": []
          }
        }
      ]
    },
    {
      "cell_type": "code",
      "metadata": {
        "colab": {
          "base_uri": "https://localhost:8080/"
        },
        "id": "X99qp2LkZTCK",
        "outputId": "ce357f03-f8db-47e5-84c6-73468bc711ac"
      },
      "source": [
        "!pip install transformers\n",
        "from transformers import BertForSequenceClassification"
      ],
      "execution_count": null,
      "outputs": [
        {
          "output_type": "stream",
          "text": [
            "Collecting transformers\n",
            "\u001b[?25l  Downloading https://files.pythonhosted.org/packages/ed/d5/f4157a376b8a79489a76ce6cfe147f4f3be1e029b7144fa7b8432e8acb26/transformers-4.4.2-py3-none-any.whl (2.0MB)\n",
            "\u001b[K     |████████████████████████████████| 2.0MB 5.0MB/s \n",
            "\u001b[?25hRequirement already satisfied: importlib-metadata; python_version < \"3.8\" in /usr/local/lib/python3.7/dist-packages (from transformers) (3.7.2)\n",
            "Requirement already satisfied: numpy>=1.17 in /usr/local/lib/python3.7/dist-packages (from transformers) (1.19.5)\n",
            "Collecting sacremoses\n",
            "\u001b[?25l  Downloading https://files.pythonhosted.org/packages/7d/34/09d19aff26edcc8eb2a01bed8e98f13a1537005d31e95233fd48216eed10/sacremoses-0.0.43.tar.gz (883kB)\n",
            "\u001b[K     |████████████████████████████████| 890kB 23.0MB/s \n",
            "\u001b[?25hRequirement already satisfied: tqdm>=4.27 in /usr/local/lib/python3.7/dist-packages (from transformers) (4.41.1)\n",
            "Requirement already satisfied: filelock in /usr/local/lib/python3.7/dist-packages (from transformers) (3.0.12)\n",
            "Requirement already satisfied: packaging in /usr/local/lib/python3.7/dist-packages (from transformers) (20.9)\n",
            "Requirement already satisfied: requests in /usr/local/lib/python3.7/dist-packages (from transformers) (2.23.0)\n",
            "Requirement already satisfied: regex!=2019.12.17 in /usr/local/lib/python3.7/dist-packages (from transformers) (2019.12.20)\n",
            "Collecting tokenizers<0.11,>=0.10.1\n",
            "\u001b[?25l  Downloading https://files.pythonhosted.org/packages/71/23/2ddc317b2121117bf34dd00f5b0de194158f2a44ee2bf5e47c7166878a97/tokenizers-0.10.1-cp37-cp37m-manylinux2010_x86_64.whl (3.2MB)\n",
            "\u001b[K     |████████████████████████████████| 3.2MB 33.8MB/s \n",
            "\u001b[?25hRequirement already satisfied: typing-extensions>=3.6.4; python_version < \"3.8\" in /usr/local/lib/python3.7/dist-packages (from importlib-metadata; python_version < \"3.8\"->transformers) (3.7.4.3)\n",
            "Requirement already satisfied: zipp>=0.5 in /usr/local/lib/python3.7/dist-packages (from importlib-metadata; python_version < \"3.8\"->transformers) (3.4.1)\n",
            "Requirement already satisfied: six in /usr/local/lib/python3.7/dist-packages (from sacremoses->transformers) (1.15.0)\n",
            "Requirement already satisfied: click in /usr/local/lib/python3.7/dist-packages (from sacremoses->transformers) (7.1.2)\n",
            "Requirement already satisfied: joblib in /usr/local/lib/python3.7/dist-packages (from sacremoses->transformers) (1.0.1)\n",
            "Requirement already satisfied: pyparsing>=2.0.2 in /usr/local/lib/python3.7/dist-packages (from packaging->transformers) (2.4.7)\n",
            "Requirement already satisfied: idna<3,>=2.5 in /usr/local/lib/python3.7/dist-packages (from requests->transformers) (2.10)\n",
            "Requirement already satisfied: chardet<4,>=3.0.2 in /usr/local/lib/python3.7/dist-packages (from requests->transformers) (3.0.4)\n",
            "Requirement already satisfied: certifi>=2017.4.17 in /usr/local/lib/python3.7/dist-packages (from requests->transformers) (2020.12.5)\n",
            "Requirement already satisfied: urllib3!=1.25.0,!=1.25.1,<1.26,>=1.21.1 in /usr/local/lib/python3.7/dist-packages (from requests->transformers) (1.24.3)\n",
            "Building wheels for collected packages: sacremoses\n",
            "  Building wheel for sacremoses (setup.py) ... \u001b[?25l\u001b[?25hdone\n",
            "  Created wheel for sacremoses: filename=sacremoses-0.0.43-cp37-none-any.whl size=893262 sha256=b705f132f167ded6ac3181259b66155d006fb11846a259b34e0d4ee0713ace5a\n",
            "  Stored in directory: /root/.cache/pip/wheels/29/3c/fd/7ce5c3f0666dab31a50123635e6fb5e19ceb42ce38d4e58f45\n",
            "Successfully built sacremoses\n",
            "Installing collected packages: sacremoses, tokenizers, transformers\n",
            "Successfully installed sacremoses-0.0.43 tokenizers-0.10.1 transformers-4.4.2\n"
          ],
          "name": "stdout"
        }
      ]
    },
    {
      "cell_type": "code",
      "metadata": {
        "id": "l1qxg53Kadeg"
      },
      "source": [
        "from transformers.optimization import AdamW"
      ],
      "execution_count": null,
      "outputs": []
    },
    {
      "cell_type": "code",
      "metadata": {
        "id": "gFpPjRcPhaU3"
      },
      "source": [
        "import os\n",
        "os.listdir('./drive/MyDrive/DUTA')\n",
        "os.chdir('./drive/MyDrive/DUTA')"
      ],
      "execution_count": null,
      "outputs": []
    },
    {
      "cell_type": "code",
      "metadata": {
        "colab": {
          "base_uri": "https://localhost:8080/"
        },
        "id": "Ur-vD92Qhco6",
        "outputId": "70033512-c4fe-4f28-f2b4-cd22b59575b9"
      },
      "source": [
        "os.listdir('data')"
      ],
      "execution_count": null,
      "outputs": [
        {
          "output_type": "execute_result",
          "data": {
            "text/plain": [
              "['Onion_Dataset_labled_clean',\n",
              " 'labels.csv',\n",
              " 'result',\n",
              " 'labels_filtered.csv',\n",
              " 'DUTA_cleaned.csv',\n",
              " 'bert_train.csv',\n",
              " 'bert_dev.csv',\n",
              " 'bert_test.csv',\n",
              " 'ppp.csv']"
            ]
          },
          "metadata": {
            "tags": []
          },
          "execution_count": 9
        }
      ]
    },
    {
      "cell_type": "code",
      "metadata": {
        "id": "vrAeLdudHOi-"
      },
      "source": [
        "import pandas as pd\n",
        "import numpy as np\n",
        "import matplotlib.pyplot as plt\n",
        "from sklearn import svm\n",
        "from sklearn.datasets import make_blobs\n",
        "from sklearn.feature_extraction.text import TfidfVectorizer,TfidfTransformer\n",
        "from sklearn.ensemble import RandomForestRegressor\n",
        "from sklearn.model_selection import RandomizedSearchCV\n",
        "from sklearn.model_selection import train_test_split\n",
        "from scipy.stats import randint\n",
        "from sklearn.datasets import fetch_california_housing\n",
        "from sklearn.metrics import plot_confusion_matrix\n",
        "from sklearn.metrics import confusion_matrix\n",
        "from sklearn import metrics"
      ],
      "execution_count": null,
      "outputs": []
    },
    {
      "cell_type": "code",
      "metadata": {
        "id": "IXFRb1meHZFQ"
      },
      "source": [
        "data=pd.read_csv('./data/DUTA_cleaned.csv')"
      ],
      "execution_count": null,
      "outputs": []
    },
    {
      "cell_type": "code",
      "metadata": {
        "colab": {
          "base_uri": "https://localhost:8080/",
          "height": 195
        },
        "id": "Y6K5vyVRHgii",
        "outputId": "e498e2ca-0fde-424c-8054-d100a3ac1f01"
      },
      "source": [
        "data.head()"
      ],
      "execution_count": null,
      "outputs": [
        {
          "output_type": "execute_result",
          "data": {
            "text/html": [
              "<div>\n",
              "<style scoped>\n",
              "    .dataframe tbody tr th:only-of-type {\n",
              "        vertical-align: middle;\n",
              "    }\n",
              "\n",
              "    .dataframe tbody tr th {\n",
              "        vertical-align: top;\n",
              "    }\n",
              "\n",
              "    .dataframe thead th {\n",
              "        text-align: right;\n",
              "    }\n",
              "</style>\n",
              "<table border=\"1\" class=\"dataframe\">\n",
              "  <thead>\n",
              "    <tr style=\"text-align: right;\">\n",
              "      <th></th>\n",
              "      <th>Onion_Address</th>\n",
              "      <th>Main_Class</th>\n",
              "      <th>Sub_Class</th>\n",
              "      <th>lang</th>\n",
              "      <th>content</th>\n",
              "    </tr>\n",
              "  </thead>\n",
              "  <tbody>\n",
              "    <tr>\n",
              "      <th>0</th>\n",
              "      <td>rothminr5wgew3f4.onion</td>\n",
              "      <td>Counterfeit Credit-Cards</td>\n",
              "      <td>NaN</td>\n",
              "      <td>en</td>\n",
              "      <td>Selling EU/US cloned cards Please put your ID ...</td>\n",
              "    </tr>\n",
              "    <tr>\n",
              "      <th>1</th>\n",
              "      <td>bj34sdmkveikr5bm.onion</td>\n",
              "      <td>Counterfeit Credit-Cards</td>\n",
              "      <td>NaN</td>\n",
              "      <td>en</td>\n",
              "      <td>Info for regular costumers Please, don't forge...</td>\n",
              "    </tr>\n",
              "    <tr>\n",
              "      <th>2</th>\n",
              "      <td>ccsale4qgjgnt4xi.onion</td>\n",
              "      <td>Counterfeit Credit-Cards</td>\n",
              "      <td>NaN</td>\n",
              "      <td>en</td>\n",
              "      <td>To order a credit card, send us a message on c...</td>\n",
              "    </tr>\n",
              "    <tr>\n",
              "      <th>3</th>\n",
              "      <td>deepwebmulipliao.onion</td>\n",
              "      <td>Counterfeit Credit-Cards</td>\n",
              "      <td>NaN</td>\n",
              "      <td>en</td>\n",
              "      <td>Cards that we've loaded with funds from variou...</td>\n",
              "    </tr>\n",
              "    <tr>\n",
              "      <th>4</th>\n",
              "      <td>pay73qh2hrmj5ksm.onion</td>\n",
              "      <td>Counterfeit Credit-Cards</td>\n",
              "      <td>NaN</td>\n",
              "      <td>en</td>\n",
              "      <td>Thank you for your order! Step 1: send the cor...</td>\n",
              "    </tr>\n",
              "  </tbody>\n",
              "</table>\n",
              "</div>"
            ],
            "text/plain": [
              "            Onion_Address  ...                                            content\n",
              "0  rothminr5wgew3f4.onion  ...  Selling EU/US cloned cards Please put your ID ...\n",
              "1  bj34sdmkveikr5bm.onion  ...  Info for regular costumers Please, don't forge...\n",
              "2  ccsale4qgjgnt4xi.onion  ...  To order a credit card, send us a message on c...\n",
              "3  deepwebmulipliao.onion  ...  Cards that we've loaded with funds from variou...\n",
              "4  pay73qh2hrmj5ksm.onion  ...  Thank you for your order! Step 1: send the cor...\n",
              "\n",
              "[5 rows x 5 columns]"
            ]
          },
          "metadata": {
            "tags": []
          },
          "execution_count": 12
        }
      ]
    },
    {
      "cell_type": "code",
      "metadata": {
        "colab": {
          "base_uri": "https://localhost:8080/"
        },
        "id": "wjNEDLFLg72h",
        "outputId": "f7410f04-7d0d-436b-df7c-2379beb855f2"
      },
      "source": [
        "data['Main_Class'].factorize()[0]"
      ],
      "execution_count": null,
      "outputs": [
        {
          "output_type": "execute_result",
          "data": {
            "text/plain": [
              "array([0, 0, 0, ..., 7, 7, 7])"
            ]
          },
          "metadata": {
            "tags": []
          },
          "execution_count": 13
        }
      ]
    },
    {
      "cell_type": "code",
      "metadata": {
        "colab": {
          "base_uri": "https://localhost:8080/",
          "height": 357
        },
        "id": "gMxEphFHjLVf",
        "outputId": "eb5ec3a4-c2bb-4f20-8a77-00b9f533d7bf"
      },
      "source": [
        "plt.figure()\n",
        "data.groupby(\"Main_Class\").content.count().plot.bar()\n",
        "# plt.tight_layout()\n",
        "plt.xticks(rotation=30)\n"
      ],
      "execution_count": null,
      "outputs": [
        {
          "output_type": "execute_result",
          "data": {
            "text/plain": [
              "(array([0, 1, 2, 3, 4, 5, 6, 7]), <a list of 8 Text major ticklabel objects>)"
            ]
          },
          "metadata": {
            "tags": []
          },
          "execution_count": 17
        },
        {
          "output_type": "display_data",
          "data": {
            "image/png": "[encoded data removed]",
            "text/plain": [
              "<Figure size 432x288 with 1 Axes>"
            ]
          },
          "metadata": {
            "tags": [],
            "needs_background": "light"
          }
        }
      ]
    },
    {
      "cell_type": "code",
      "metadata": {
        "id": "MZbjnIX7jQx3",
        "colab": {
          "base_uri": "https://localhost:8080/"
        },
        "outputId": "77edd5ff-8afe-4f2f-d57c-e1cea865b0f5"
      },
      "source": [
        "X_train,X_test,y_train,y_test=train_test_split(data['content'],data['Main_Class'],random_state=0,shuffle=True)\n",
        "X_train"
      ],
      "execution_count": null,
      "outputs": [
        {
          "output_type": "execute_result",
          "data": {
            "text/plain": [
              "241     Get 100x return on Bitcoin investment! How can...\n",
              "1182    Escorts in Scotland V and.com/ England .escort...\n",
              "330     How to multiply your Bitcoins hundredfold in a...\n",
              "915     Welcome to the Marilyn Style Shop! In the mean...\n",
              "717     Coffee Shop grade Cannabis Finest organic cann...\n",
              "                              ...                        \n",
              "763     Welcome to onion CandyShop candy2lnw4px2yfp We...\n",
              "835     How can I buy products from your website? You ...\n",
              "1216    Please help us to run our server and donate Bi...\n",
              "559     Not logged in :: LOGIN / REGISTER Bitcoin Fog ...\n",
              "684     I am a Hash Seller from the paradise like city...\n",
              "Name: content, Length: 1169, dtype: object"
            ]
          },
          "metadata": {
            "tags": []
          },
          "execution_count": 27
        }
      ]
    },
    {
      "cell_type": "code",
      "metadata": {
        "id": "ywnStuI9maU4"
      },
      "source": [
        "vec=TfidfVectorizer(lowercase=True,stop_words='english')"
      ],
      "execution_count": null,
      "outputs": []
    },
    {
      "cell_type": "code",
      "metadata": {
        "id": "kNSFfGUimaRY"
      },
      "source": [
        "X_train_tfidf=vec.fit_transform(X_train)\n"
      ],
      "execution_count": null,
      "outputs": []
    },
    {
      "cell_type": "code",
      "metadata": {
        "id": "tfYQj941mZzD"
      },
      "source": [
        "X_test_tfidf=vec.transform(X_test)"
      ],
      "execution_count": null,
      "outputs": []
    },
    {
      "cell_type": "code",
      "metadata": {
        "id": "s97Jru-vIfoB",
        "colab": {
          "base_uri": "https://localhost:8080/",
          "height": 430
        },
        "outputId": "acba1c37-d2e6-4913-e730-8208e5685a6d"
      },
      "source": [
        "model_svm=svm.LinearSVC()\n",
        "model_svm.fit(X_train_tfidf,y_train)\n",
        "y_pred_svm=model_svm.predict(X_test_tfidf)\n",
        "plot_confusion_matrix(model_svm,X_test_tfidf, y_test,display_labels=[x for x in range(8)],\n",
        "                                 cmap=plt.cm.BuPu,\n",
        "                                 normalize=None,\n",
        "                                 values_format='3d')\n",
        "conf_mat_SVM = confusion_matrix(y_test, y_pred_svm)\n",
        "print(\"SVM result:\")\n",
        "conf_mat_SVM"
      ],
      "execution_count": null,
      "outputs": [
        {
          "output_type": "stream",
          "text": [
            "SVM result:\n"
          ],
          "name": "stdout"
        },
        {
          "output_type": "execute_result",
          "data": {
            "text/plain": [
              "array([[ 48,   0,   0,   0,   1,   0,   0,   0],\n",
              "       [  0, 111,   0,   1,   3,   0,   1,   2],\n",
              "       [  0,   0,  25,   0,   0,   0,   1,   0],\n",
              "       [  1,   0,   0,  17,   3,   0,   0,   0],\n",
              "       [  1,   1,   0,   0,  65,   0,   2,  11],\n",
              "       [  0,   0,   0,   0,   2,  22,   1,   1],\n",
              "       [  0,   2,   0,   0,  10,   0,   3,   5],\n",
              "       [  1,   0,   0,   0,  14,   2,   1,  32]])"
            ]
          },
          "metadata": {
            "tags": []
          },
          "execution_count": 67
        },
        {
          "output_type": "display_data",
          "data": {
            "image/png": "[encoded data removed]",
            "text/plain": [
              "<Figure size 432x288 with 2 Axes>"
            ]
          },
          "metadata": {
            "tags": [],
            "needs_background": "light"
          }
        }
      ]
    },
    {
      "cell_type": "code",
      "metadata": {
        "id": "QfVrrS7LIp0A",
        "colab": {
          "base_uri": "https://localhost:8080/"
        },
        "outputId": "4dae5bc7-e635-435d-e5eb-c83a782fe090"
      },
      "source": [
        "ret=metrics.classification_report(y_test, y_pred_svm, target_names=data['Main_Class'].unique(), digits=4)\n",
        "print(ret)"
      ],
      "execution_count": null,
      "outputs": [
        {
          "output_type": "stream",
          "text": [
            "                          precision    recall  f1-score   support\n",
            "\n",
            "Counterfeit Credit-Cards     0.9412    0.9796    0.9600        49\n",
            "          Cryptocurrency     0.9737    0.9407    0.9569       118\n",
            "                   Drugs     1.0000    0.9615    0.9804        26\n",
            "             Marketplace     0.9444    0.8095    0.8718        21\n",
            "                Personal     0.6633    0.8125    0.7303        80\n",
            "                   Porno     0.9167    0.8462    0.8800        26\n",
            "                Services     0.3333    0.1500    0.2069        20\n",
            "          Social-Network     0.6275    0.6400    0.6337        50\n",
            "\n",
            "                accuracy                         0.8282       390\n",
            "               macro avg     0.8000    0.7675    0.7775       390\n",
            "            weighted avg     0.8251    0.8282    0.8228       390\n",
            "\n"
          ],
          "name": "stdout"
        }
      ]
    },
    {
      "cell_type": "code",
      "metadata": {
        "id": "bxdQ7uhlI3cp",
        "colab": {
          "base_uri": "https://localhost:8080/",
          "height": 296
        },
        "outputId": "010936fe-af5f-4343-9cdb-e1f8096af0b6"
      },
      "source": [
        ""
      ],
      "execution_count": null,
      "outputs": [
        {
          "output_type": "execute_result",
          "data": {
            "text/plain": [
              "<sklearn.metrics._plot.confusion_matrix.ConfusionMatrixDisplay at 0x7f813d3120d0>"
            ]
          },
          "metadata": {
            "tags": []
          },
          "execution_count": 62
        },
        {
          "output_type": "display_data",
          "data": {
            "image/png": "[encoded data removed]",
            "text/plain": [
              "<Figure size 432x288 with 2 Axes>"
            ]
          },
          "metadata": {
            "tags": [],
            "needs_background": "light"
          }
        }
      ]
    },
    {
      "cell_type": "code",
      "metadata": {
        "id": "ZvjWWWDWJGCN",
        "colab": {
          "base_uri": "https://localhost:8080/"
        },
        "outputId": "46a30e67-06ee-4ccc-82d6-a0e1b1ad4946"
      },
      "source": [
        "\n",
        "\n",
        "# ret=metrics.classification_report(y_test, y_pred_svm, target_names=data['Main_Class'].unique(), digits=4)\n",
        "# print(ret)"
      ],
      "execution_count": null,
      "outputs": [
        {
          "output_type": "stream",
          "text": [
            "SVM result:\n"
          ],
          "name": "stdout"
        },
        {
          "output_type": "execute_result",
          "data": {
            "text/plain": [
              "array([[ 48,   0,   0,   0,   1,   0,   0,   0],\n",
              "       [  0, 111,   0,   1,   3,   0,   1,   2],\n",
              "       [  0,   0,  25,   0,   0,   0,   1,   0],\n",
              "       [  1,   0,   0,  17,   3,   0,   0,   0],\n",
              "       [  1,   1,   0,   0,  65,   0,   2,  11],\n",
              "       [  0,   0,   0,   0,   2,  22,   1,   1],\n",
              "       [  0,   2,   0,   0,  10,   0,   3,   5],\n",
              "       [  1,   0,   0,   0,  14,   2,   1,  32]])"
            ]
          },
          "metadata": {
            "tags": []
          },
          "execution_count": 56
        }
      ]
    },
    {
      "cell_type": "code",
      "metadata": {
        "id": "QoTFh6l0JJ-d"
      },
      "source": [
        ""
      ],
      "execution_count": null,
      "outputs": []
    },
    {
      "cell_type": "code",
      "metadata": {
        "id": "hHKNq3x9gEaZ"
      },
      "source": [
        ""
      ],
      "execution_count": null,
      "outputs": []
    }
  ]
}